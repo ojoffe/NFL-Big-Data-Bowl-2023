{
 "cells": [
  {
   "cell_type": "markdown",
   "metadata": {},
   "source": [
    "# NFL Kaggle dataset\n",
    "\n",
    "https://www.kaggle.com/competitions/nfl-big-data-bowl-2023/overview"
   ]
  },
  {
   "cell_type": "markdown",
   "metadata": {
    "id": "lOxpppZtdz3J"
   },
   "source": [
    "# Importing Opendatasets and Kaggle data"
   ]
  },
  {
   "cell_type": "code",
   "execution_count": null,
   "metadata": {
    "colab": {
     "base_uri": "https://localhost:8080/"
    },
    "id": "VzYgiCNtdtFk",
    "outputId": "29a828e7-42e0-4282-e297-8de17355d2d2"
   },
   "outputs": [],
   "source": [
    "import opendatasets as od\n",
    "import pandas as pd\n",
    "\n",
    "od.download(\"https://www.kaggle.com/competitions/nfl-big-data-bowl-2023/code\")"
   ]
  },
  {
   "cell_type": "markdown",
   "metadata": {
    "id": "uZYoElgWsdd5"
   },
   "source": [
    "# Exploring the Data"
   ]
  },
  {
   "cell_type": "code",
   "execution_count": null,
   "metadata": {
    "id": "VBY_UesAdwhR"
   },
   "outputs": [],
   "source": [
    "import numpy as np\n",
    "import matplotlib.pyplot as plt\n",
    "import ipywidgets as widgets"
   ]
  },
  {
   "cell_type": "code",
   "execution_count": null,
   "metadata": {},
   "outputs": [],
   "source": [
    "week_file = ('nfl-big-data-bowl-2023/week1.csv')\n",
    "week1 = pd.read_csv(week_file)\n",
    "week1.head(1)"
   ]
  },
  {
   "cell_type": "code",
   "execution_count": null,
   "metadata": {
    "colab": {
     "base_uri": "https://localhost:8080/",
     "height": 206
    },
    "id": "U5hzK46FeFO4",
    "outputId": "bca2ebba-61a5-4a09-8cd3-072e6e048c03"
   },
   "outputs": [],
   "source": [
    "# isolating for one game, play, and frame\t{gameId: 2021090900, playId: 97, frameId: 1}\n",
    "# change these vars when needed\n",
    "gameId = 2021090900\n",
    "playId = 97\n",
    "frameId = 1\n",
    "team1Initials = 'TB'\n",
    "team2Initials = 'DAL'\n",
    "\n",
    "uniqueId = week1[week1['gameId'] == gameId]\n",
    "uniqueId = uniqueId[uniqueId['playId'] == playId]\n",
    "uniqueId = uniqueId[uniqueId['frameId'] == frameId]\n",
    "uniqueId.head()"
   ]
  },
  {
   "cell_type": "code",
   "execution_count": null,
   "metadata": {
    "colab": {
     "base_uri": "https://localhost:8080/"
    },
    "id": "PpMrN8W3synm",
    "outputId": "1152abf5-e124-4d65-9727-c9662f5e6e15"
   },
   "outputs": [],
   "source": [
    "print(\"Max # of frames in a play in Week1: \" + str(week1['frameId'].max()))"
   ]
  },
  {
   "cell_type": "code",
   "execution_count": null,
   "metadata": {
    "colab": {
     "base_uri": "https://localhost:8080/"
    },
    "id": "gG-Mr_8ErYhU",
    "outputId": "ddb02072-4cab-4b0f-d7df-c7348575deb6"
   },
   "outputs": [],
   "source": [
    "# data for plays description\n",
    "play_file = ('nfl-big-data-bowl-2023/plays.csv')\n",
    "plays = pd.read_csv(play_file)\n",
    "\n",
    "# separating for game and play (multiple games with same playId)\n",
    "play_description = plays[plays['gameId'] == gameId]\n",
    "play_description = play_description[play_description['playId'] == playId] \n",
    "play_description = play_description.at[0, 'playDescription']\n",
    "print(play_description)"
   ]
  },
  {
   "cell_type": "markdown",
   "metadata": {
    "id": "O9hkmQeosmVQ"
   },
   "source": [
    "# Field Map"
   ]
  },
  {
   "cell_type": "code",
   "execution_count": null,
   "metadata": {
    "colab": {
     "base_uri": "https://localhost:8080/",
     "height": 331,
     "referenced_widgets": [
      "06834e6882cd4ae8b7fc6e7676260aa9",
      "38e018c686f246e3b11f0a6e1b993431",
      "f28364113e454df0b32062e47e3515b0",
      "54397b733e5a42b29f0a8ad8bfbc3dd0",
      "a7432b127e1242c0a207cf6282c73d02",
      "ff2b49a632824106adfef9b4cf4eabc9",
      "71691e8adad44b95b7c91804b17f529f"
     ]
    },
    "id": "lR9Wf3sq_Vse",
    "outputId": "a9758113-843b-4236-fd66-b88642a07d77",
    "tags": []
   },
   "outputs": [],
   "source": [
    "# INTERACTIVE VERSION OF FIELD\n",
    "def fieldFunc(frameId):\n",
    "  fig, ax = plt.subplots()\n",
    "\n",
    "  # getting useful data\n",
    "  uniqueId = week1[week1['gameId'] == gameId]\n",
    "  uniqueId = uniqueId[uniqueId['playId'] == playId]\n",
    "  uniqueId = uniqueId[uniqueId['frameId'] == frameId]\n",
    "\n",
    "  # team and football data\n",
    "  team1 = uniqueId[uniqueId['team'] == team1Initials]\n",
    "  team2 = uniqueId[uniqueId['team'] == team2Initials]\n",
    "  ftblDF = uniqueId[uniqueId['team'] == 'football']\n",
    "\n",
    "  # plotting data points\n",
    "  ax.scatter(team1['x'], team1['y'], c='blue', zorder=3, marker='o', s=75, label=team1Initials)  #TEAM1 is BLUE\n",
    "  ax.scatter(team2['x'], team2['y'], c='red', zorder=3, marker='o',s=75, label=team2Initials) #TEAM2 is RED\n",
    "  ax.scatter(ftblDF['x'], ftblDF['y'], c='black', zorder=4, marker='D', edgecolor='magenta', linewidth=2, label='football') #FOOTBALL is BLACK\n",
    "\n",
    "  ax.axvline(x=10,color='yellow'), ax.axvline(x=110, color='yellow') # 0 and 100-yard lines\n",
    "\n",
    "  for i in [20,30,40,50,60,70,80,90,100]:   # 10-yard lines\n",
    "    ax.axvline(x=i,color='white')\n",
    "    \n",
    "  for i in [15,25,35,45,55,65,75,85,95,105]:   # 5-yard lines\n",
    "    ax.axvline(x=i,color='silver')\n",
    "  \n",
    "  # plot characteristics\n",
    "  ax.set_facecolor('seagreen')\n",
    "  plt.xlim(0,120) # including end zones\n",
    "  plt.ylim(0,53.3) # sidelines\n",
    "  ax.set_xticks([20,30,40,50,60,70,80,90,100])\n",
    "  ax.set_xticklabels([10,20,30,40,50,40,30,20,10])\n",
    "  ax.set_yticks([]) # deletes y-ticks\n",
    "  plt.title('[gameId: '+ str(gameId) + '] ' + play_description)\n",
    "  fig.legend(loc='lower right')\n",
    "  plt.figure(figsize=(2160,1440))\n",
    "  plt.show()\n",
    "\n",
    "# max frameId=177 in week1; need to find max frames for a unique play\n",
    "interactiveField = widgets.interactive(fieldFunc, frameId=(1,177))\n",
    "output = interactiveField.children[-1]\n",
    "interactiveField"
   ]
  }
 ],
 "metadata": {
  "colab": {
   "provenance": []
  },
  "kernelspec": {
   "display_name": "Python 3 (ipykernel)",
   "language": "python",
   "name": "python3"
  },
  "language_info": {
   "codemirror_mode": {
    "name": "ipython",
    "version": 3
   },
   "file_extension": ".py",
   "mimetype": "text/x-python",
   "name": "python",
   "nbconvert_exporter": "python",
   "pygments_lexer": "ipython3",
   "version": "3.9.13"
  },
  "toc-autonumbering": false,
  "toc-showcode": true,
  "toc-showmarkdowntxt": false,
  "widgets": {
   "application/vnd.jupyter.widget-state+json": {
    "06834e6882cd4ae8b7fc6e7676260aa9": {
     "model_module": "@jupyter-widgets/controls",
     "model_module_version": "1.5.0",
     "model_name": "VBoxModel",
     "state": {
      "_dom_classes": [
       "widget-interact"
      ],
      "_model_module": "@jupyter-widgets/controls",
      "_model_module_version": "1.5.0",
      "_model_name": "VBoxModel",
      "_view_count": null,
      "_view_module": "@jupyter-widgets/controls",
      "_view_module_version": "1.5.0",
      "_view_name": "VBoxView",
      "box_style": "",
      "children": [
       "IPY_MODEL_38e018c686f246e3b11f0a6e1b993431",
       "IPY_MODEL_f28364113e454df0b32062e47e3515b0"
      ],
      "layout": "IPY_MODEL_54397b733e5a42b29f0a8ad8bfbc3dd0"
     }
    },
    "38e018c686f246e3b11f0a6e1b993431": {
     "model_module": "@jupyter-widgets/controls",
     "model_module_version": "1.5.0",
     "model_name": "IntSliderModel",
     "state": {
      "_dom_classes": [],
      "_model_module": "@jupyter-widgets/controls",
      "_model_module_version": "1.5.0",
      "_model_name": "IntSliderModel",
      "_view_count": null,
      "_view_module": "@jupyter-widgets/controls",
      "_view_module_version": "1.5.0",
      "_view_name": "IntSliderView",
      "continuous_update": true,
      "description": "frameId",
      "description_tooltip": null,
      "disabled": false,
      "layout": "IPY_MODEL_a7432b127e1242c0a207cf6282c73d02",
      "max": 177,
      "min": 1,
      "orientation": "horizontal",
      "readout": true,
      "readout_format": "d",
      "step": 1,
      "style": "IPY_MODEL_ff2b49a632824106adfef9b4cf4eabc9",
      "value": 39
     }
    },
    "54397b733e5a42b29f0a8ad8bfbc3dd0": {
     "model_module": "@jupyter-widgets/base",
     "model_module_version": "1.2.0",
     "model_name": "LayoutModel",
     "state": {
      "_model_module": "@jupyter-widgets/base",
      "_model_module_version": "1.2.0",
      "_model_name": "LayoutModel",
      "_view_count": null,
      "_view_module": "@jupyter-widgets/base",
      "_view_module_version": "1.2.0",
      "_view_name": "LayoutView",
      "align_content": null,
      "align_items": null,
      "align_self": null,
      "border": null,
      "bottom": null,
      "display": null,
      "flex": null,
      "flex_flow": null,
      "grid_area": null,
      "grid_auto_columns": null,
      "grid_auto_flow": null,
      "grid_auto_rows": null,
      "grid_column": null,
      "grid_gap": null,
      "grid_row": null,
      "grid_template_areas": null,
      "grid_template_columns": null,
      "grid_template_rows": null,
      "height": null,
      "justify_content": null,
      "justify_items": null,
      "left": null,
      "margin": null,
      "max_height": null,
      "max_width": null,
      "min_height": null,
      "min_width": null,
      "object_fit": null,
      "object_position": null,
      "order": null,
      "overflow": null,
      "overflow_x": null,
      "overflow_y": null,
      "padding": null,
      "right": null,
      "top": null,
      "visibility": null,
      "width": null
     }
    },
    "71691e8adad44b95b7c91804b17f529f": {
     "model_module": "@jupyter-widgets/base",
     "model_module_version": "1.2.0",
     "model_name": "LayoutModel",
     "state": {
      "_model_module": "@jupyter-widgets/base",
      "_model_module_version": "1.2.0",
      "_model_name": "LayoutModel",
      "_view_count": null,
      "_view_module": "@jupyter-widgets/base",
      "_view_module_version": "1.2.0",
      "_view_name": "LayoutView",
      "align_content": null,
      "align_items": null,
      "align_self": null,
      "border": null,
      "bottom": null,
      "display": null,
      "flex": null,
      "flex_flow": null,
      "grid_area": null,
      "grid_auto_columns": null,
      "grid_auto_flow": null,
      "grid_auto_rows": null,
      "grid_column": null,
      "grid_gap": null,
      "grid_row": null,
      "grid_template_areas": null,
      "grid_template_columns": null,
      "grid_template_rows": null,
      "height": null,
      "justify_content": null,
      "justify_items": null,
      "left": null,
      "margin": null,
      "max_height": null,
      "max_width": null,
      "min_height": null,
      "min_width": null,
      "object_fit": null,
      "object_position": null,
      "order": null,
      "overflow": null,
      "overflow_x": null,
      "overflow_y": null,
      "padding": null,
      "right": null,
      "top": null,
      "visibility": null,
      "width": null
     }
    },
    "a7432b127e1242c0a207cf6282c73d02": {
     "model_module": "@jupyter-widgets/base",
     "model_module_version": "1.2.0",
     "model_name": "LayoutModel",
     "state": {
      "_model_module": "@jupyter-widgets/base",
      "_model_module_version": "1.2.0",
      "_model_name": "LayoutModel",
      "_view_count": null,
      "_view_module": "@jupyter-widgets/base",
      "_view_module_version": "1.2.0",
      "_view_name": "LayoutView",
      "align_content": null,
      "align_items": null,
      "align_self": null,
      "border": null,
      "bottom": null,
      "display": null,
      "flex": null,
      "flex_flow": null,
      "grid_area": null,
      "grid_auto_columns": null,
      "grid_auto_flow": null,
      "grid_auto_rows": null,
      "grid_column": null,
      "grid_gap": null,
      "grid_row": null,
      "grid_template_areas": null,
      "grid_template_columns": null,
      "grid_template_rows": null,
      "height": null,
      "justify_content": null,
      "justify_items": null,
      "left": null,
      "margin": null,
      "max_height": null,
      "max_width": null,
      "min_height": null,
      "min_width": null,
      "object_fit": null,
      "object_position": null,
      "order": null,
      "overflow": null,
      "overflow_x": null,
      "overflow_y": null,
      "padding": null,
      "right": null,
      "top": null,
      "visibility": null,
      "width": null
     }
    },
    "f28364113e454df0b32062e47e3515b0": {
     "model_module": "@jupyter-widgets/output",
     "model_module_version": "1.0.0",
     "model_name": "OutputModel",
     "state": {
      "_dom_classes": [],
      "_model_module": "@jupyter-widgets/output",
      "_model_module_version": "1.0.0",
      "_model_name": "OutputModel",
      "_view_count": null,
      "_view_module": "@jupyter-widgets/output",
      "_view_module_version": "1.0.0",
      "_view_name": "OutputView",
      "layout": "IPY_MODEL_71691e8adad44b95b7c91804b17f529f",
      "msg_id": "",
      "outputs": [
       {
        "data": {
         "image/png": "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\n",
         "text/plain": "<Figure size 432x288 with 1 Axes>"
        },
        "metadata": {
         "needs_background": "light"
        },
        "output_type": "display_data"
       },
       {
        "data": {
         "text/plain": "<Figure size 155520x103680 with 0 Axes>"
        },
        "metadata": {},
        "output_type": "display_data"
       }
      ]
     }
    },
    "ff2b49a632824106adfef9b4cf4eabc9": {
     "model_module": "@jupyter-widgets/controls",
     "model_module_version": "1.5.0",
     "model_name": "SliderStyleModel",
     "state": {
      "_model_module": "@jupyter-widgets/controls",
      "_model_module_version": "1.5.0",
      "_model_name": "SliderStyleModel",
      "_view_count": null,
      "_view_module": "@jupyter-widgets/base",
      "_view_module_version": "1.2.0",
      "_view_name": "StyleView",
      "description_width": "",
      "handle_color": null
     }
    }
   }
  }
 },
 "nbformat": 4,
 "nbformat_minor": 4
}
